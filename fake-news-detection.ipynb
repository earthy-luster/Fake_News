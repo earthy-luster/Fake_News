{
 "cells": [
  {
   "cell_type": "code",
   "execution_count": 1,
   "id": "b1bb3caf",
   "metadata": {
    "_cell_guid": "b1076dfc-b9ad-4769-8c92-a6c4dae69d19",
    "_uuid": "8f2839f25d086af736a60e9eeb907d3b93b6e0e5",
    "execution": {
     "iopub.execute_input": "2024-01-25T15:21:22.810742Z",
     "iopub.status.busy": "2024-01-25T15:21:22.810301Z",
     "iopub.status.idle": "2024-01-25T15:21:23.246696Z",
     "shell.execute_reply": "2024-01-25T15:21:23.245618Z"
    },
    "papermill": {
     "duration": 0.444626,
     "end_time": "2024-01-25T15:21:23.249398",
     "exception": false,
     "start_time": "2024-01-25T15:21:22.804772",
     "status": "completed"
    },
    "tags": []
   },
   "outputs": [],
   "source": [
    "# This Python 3 environment comes with many helpful analytics libraries installed\n",
    "# It is defined by the kaggle/python Docker image: https://github.com/kaggle/docker-python\n",
    "# For example, here's several helpful packages to load\n",
    "\n",
    "import numpy as np # linear algebra\n",
    "import pandas as pd # data processing, CSV file I/O (e.g. pd.read_csv)\n",
    "\n",
    "# Input data files are available in the read-only \"../input/\" directory\n",
    "# For example, running this (by clicking run or pressing Shift+Enter) will list all files under the input directory\n",
    "\n",
    "import os\n",
    "for dirname, _, filenames in os.walk('/kaggle/input'):\n",
    "    for filename in filenames:\n",
    "        print(os.path.join(dirname, filename))\n",
    "\n",
    "# You can write up to 20GB to the current directory (/kaggle/working/) that gets preserved as output when you create a version using \"Save & Run All\" \n",
    "# You can also write temporary files to /kaggle/temp/, but they won't be saved outside of the current session"
   ]
  },
  {
   "cell_type": "code",
   "execution_count": 2,
   "id": "82e3cb3e",
   "metadata": {
    "execution": {
     "iopub.execute_input": "2024-01-25T15:21:23.258567Z",
     "iopub.status.busy": "2024-01-25T15:21:23.257590Z",
     "iopub.status.idle": "2024-01-25T15:21:39.310722Z",
     "shell.execute_reply": "2024-01-25T15:21:39.309376Z"
    },
    "papermill": {
     "duration": 16.060249,
     "end_time": "2024-01-25T15:21:39.313190",
     "exception": false,
     "start_time": "2024-01-25T15:21:23.252941",
     "status": "completed"
    },
    "tags": []
   },
   "outputs": [
    {
     "name": "stdout",
     "output_type": "stream",
     "text": [
      "Requirement already satisfied: pandas in /opt/conda/lib/python3.10/site-packages (2.0.3)\r\n",
      "Requirement already satisfied: python-dateutil>=2.8.2 in /opt/conda/lib/python3.10/site-packages (from pandas) (2.8.2)\r\n",
      "Requirement already satisfied: pytz>=2020.1 in /opt/conda/lib/python3.10/site-packages (from pandas) (2023.3)\r\n",
      "Requirement already satisfied: tzdata>=2022.1 in /opt/conda/lib/python3.10/site-packages (from pandas) (2023.3)\r\n",
      "Requirement already satisfied: numpy>=1.21.0 in /opt/conda/lib/python3.10/site-packages (from pandas) (1.24.3)\r\n",
      "Requirement already satisfied: six>=1.5 in /opt/conda/lib/python3.10/site-packages (from python-dateutil>=2.8.2->pandas) (1.16.0)\r\n",
      "Note: you may need to restart the kernel to use updated packages.\n"
     ]
    }
   ],
   "source": [
    "pip install pandas"
   ]
  },
  {
   "cell_type": "code",
   "execution_count": 3,
   "id": "e3b379cd",
   "metadata": {
    "execution": {
     "iopub.execute_input": "2024-01-25T15:21:39.323008Z",
     "iopub.status.busy": "2024-01-25T15:21:39.321967Z",
     "iopub.status.idle": "2024-01-25T15:21:39.327867Z",
     "shell.execute_reply": "2024-01-25T15:21:39.326950Z"
    },
    "papermill": {
     "duration": 0.013109,
     "end_time": "2024-01-25T15:21:39.329951",
     "exception": false,
     "start_time": "2024-01-25T15:21:39.316842",
     "status": "completed"
    },
    "tags": []
   },
   "outputs": [],
   "source": [
    "import pandas as pd \n",
    "import numpy as np\n",
    "import random \n",
    "import string"
   ]
  },
  {
   "cell_type": "code",
   "execution_count": 4,
   "id": "cf3ac027",
   "metadata": {
    "execution": {
     "iopub.execute_input": "2024-01-25T15:21:39.338828Z",
     "iopub.status.busy": "2024-01-25T15:21:39.338409Z",
     "iopub.status.idle": "2024-01-25T15:21:39.343473Z",
     "shell.execute_reply": "2024-01-25T15:21:39.342368Z"
    },
    "papermill": {
     "duration": 0.012472,
     "end_time": "2024-01-25T15:21:39.346134",
     "exception": false,
     "start_time": "2024-01-25T15:21:39.333662",
     "status": "completed"
    },
    "tags": []
   },
   "outputs": [],
   "source": [
    "from random import *\n",
    "import csv"
   ]
  },
  {
   "cell_type": "code",
   "execution_count": 5,
   "id": "650ad1b1",
   "metadata": {
    "execution": {
     "iopub.execute_input": "2024-01-25T15:21:39.355373Z",
     "iopub.status.busy": "2024-01-25T15:21:39.354989Z",
     "iopub.status.idle": "2024-01-25T15:21:39.965995Z",
     "shell.execute_reply": "2024-01-25T15:21:39.964598Z"
    },
    "papermill": {
     "duration": 0.617994,
     "end_time": "2024-01-25T15:21:39.967854",
     "exception": true,
     "start_time": "2024-01-25T15:21:39.349860",
     "status": "failed"
    },
    "tags": []
   },
   "outputs": [
    {
     "ename": "StdinNotImplementedError",
     "evalue": "raw_input was called, but this frontend does not support input requests.",
     "output_type": "error",
     "traceback": [
      "\u001b[0;31m---------------------------------------------------------------------------\u001b[0m",
      "\u001b[0;31mStdinNotImplementedError\u001b[0m                  Traceback (most recent call last)",
      "Cell \u001b[0;32mIn[5], line 90\u001b[0m\n\u001b[1;32m     86\u001b[0m                 \u001b[38;5;28mprint\u001b[39m(\u001b[38;5;124m'\u001b[39m\u001b[38;5;124mthanks for visit.....\u001b[39m\u001b[38;5;124m'\u001b[39m)\n\u001b[1;32m     87\u001b[0m                 \u001b[38;5;28;01mbreak\u001b[39;00m\n\u001b[0;32m---> 90\u001b[0m s \u001b[38;5;241m=\u001b[39m \u001b[43mfake\u001b[49m\u001b[43m(\u001b[49m\u001b[43m)\u001b[49m\n\u001b[1;32m     91\u001b[0m s\u001b[38;5;241m.\u001b[39mfile()\n",
      "Cell \u001b[0;32mIn[5], line 8\u001b[0m, in \u001b[0;36mfake.__init__\u001b[0;34m(self)\u001b[0m\n\u001b[1;32m      7\u001b[0m \u001b[38;5;28;01mdef\u001b[39;00m \u001b[38;5;21m__init__\u001b[39m(\u001b[38;5;28mself\u001b[39m):\n\u001b[0;32m----> 8\u001b[0m     \u001b[38;5;28mself\u001b[39m\u001b[38;5;241m.\u001b[39mn \u001b[38;5;241m=\u001b[39m \u001b[38;5;28mint\u001b[39m(\u001b[38;5;28;43minput\u001b[39;49m\u001b[43m(\u001b[49m\u001b[38;5;124;43m'\u001b[39;49m\u001b[38;5;124;43mHow many fake employee data you need....\u001b[39;49m\u001b[38;5;124;43m'\u001b[39;49m\u001b[43m)\u001b[49m)\n",
      "File \u001b[0;32m/opt/conda/lib/python3.10/site-packages/ipykernel/kernelbase.py:1201\u001b[0m, in \u001b[0;36mKernel.raw_input\u001b[0;34m(self, prompt)\u001b[0m\n\u001b[1;32m   1199\u001b[0m \u001b[38;5;28;01mif\u001b[39;00m \u001b[38;5;129;01mnot\u001b[39;00m \u001b[38;5;28mself\u001b[39m\u001b[38;5;241m.\u001b[39m_allow_stdin:\n\u001b[1;32m   1200\u001b[0m     msg \u001b[38;5;241m=\u001b[39m \u001b[38;5;124m\"\u001b[39m\u001b[38;5;124mraw_input was called, but this frontend does not support input requests.\u001b[39m\u001b[38;5;124m\"\u001b[39m\n\u001b[0;32m-> 1201\u001b[0m     \u001b[38;5;28;01mraise\u001b[39;00m StdinNotImplementedError(msg)\n\u001b[1;32m   1202\u001b[0m \u001b[38;5;28;01mreturn\u001b[39;00m \u001b[38;5;28mself\u001b[39m\u001b[38;5;241m.\u001b[39m_input_request(\n\u001b[1;32m   1203\u001b[0m     \u001b[38;5;28mstr\u001b[39m(prompt),\n\u001b[1;32m   1204\u001b[0m     \u001b[38;5;28mself\u001b[39m\u001b[38;5;241m.\u001b[39m_parent_ident[\u001b[38;5;124m\"\u001b[39m\u001b[38;5;124mshell\u001b[39m\u001b[38;5;124m\"\u001b[39m],\n\u001b[1;32m   1205\u001b[0m     \u001b[38;5;28mself\u001b[39m\u001b[38;5;241m.\u001b[39mget_parent(\u001b[38;5;124m\"\u001b[39m\u001b[38;5;124mshell\u001b[39m\u001b[38;5;124m\"\u001b[39m),\n\u001b[1;32m   1206\u001b[0m     password\u001b[38;5;241m=\u001b[39m\u001b[38;5;28;01mFalse\u001b[39;00m,\n\u001b[1;32m   1207\u001b[0m )\n",
      "\u001b[0;31mStdinNotImplementedError\u001b[0m: raw_input was called, but this frontend does not support input requests."
     ]
    }
   ],
   "source": [
    "class fake:\n",
    "    \"\"\" this class developed by pankaj for creating duplicate employee data .\n",
    "        employee_name, employee_number, employee_salary, employee_city, employee_phone_number.\n",
    "        also give a option to save data in txt file...[or]...csv file.....\n",
    "        thanks for visit........................................................................\"\"\"\n",
    "\n",
    "    def __init__(self):\n",
    "        self.n = int(input('How many fake employee data you need....'))\n",
    "\n",
    "    @staticmethod\n",
    "    def ename():\n",
    "        op = 'ABCDEFGHIJKLMNOPQRSTUVWXYZ'\n",
    "        name = ''\n",
    "        for x in range(randrange(3, 10)):\n",
    "            name += choice(op)\n",
    "        return name.capitalize()\n",
    "\n",
    "    @staticmethod\n",
    "    def eno():\n",
    "        en = 'e-'\n",
    "        e = randrange(1000, 9999)\n",
    "        return en + str(e)\n",
    "\n",
    "    @staticmethod\n",
    "    def esalarry():\n",
    "        es = float(randrange(10000, 50000))\n",
    "        return es\n",
    "\n",
    "    @staticmethod\n",
    "    def ecity():\n",
    "        c = ['jaipur', 'Bangalore', 'Hyderabad', 'delhi', 'Chennai']\n",
    "        return choice(c)\n",
    "\n",
    "    @staticmethod\n",
    "    def ephn():\n",
    "        f = randint(6, 9)\n",
    "        ph = ''\n",
    "        for x in range(9):\n",
    "            ph += str(randint(1, 9))\n",
    "        a = f'+91 {f}{ph} '\n",
    "        return a\n",
    "\n",
    "    def data(self):\n",
    "        for x in range(self.n):\n",
    "            print('______________________________________________________________________')\n",
    "            print(f'employee name : {self.ename()}')\n",
    "            print(f'employee no : {self.eno()}')\n",
    "            print(f'employee salary : {self.esalarry()}')\n",
    "            print(f'employee city : {self.ecity()}')\n",
    "            print(f'employee mobile no : {self.ephn()}')\n",
    "            print('______________________________________________________________________')\n",
    "\n",
    "    def file(self):\n",
    "        op = input('Do you want to save data in file [yes||no]...').lower()\n",
    "        while True:\n",
    "            if op not in ['yes', 'no']:\n",
    "                while op not in ['yes', 'no']:\n",
    "                    op = input('choose valid option....')\n",
    "            if op == 'no':\n",
    "                print('data only for display...')\n",
    "                self.data()\n",
    "                break\n",
    "            fname = input('In which file you store data [txt || csv]... ')\n",
    "            if fname == 'csv':\n",
    "                name = input('enter file name with extension(.csv) in which you store data...')\n",
    "                with open(name, 'a', newline='') as f:\n",
    "                    b = csv.writer(f)\n",
    "                    b.writerow(['employee name :', 'employee no. :', 'employee salary :', 'employee city :',\n",
    "                                'employee mobile no :'])\n",
    "                    for x in range(self.n):\n",
    "                        b.writerow(\n",
    "                            (self.ename(), self.eno(), self.esalarry(),\n",
    "                             self.ecity(), self.ephn()))\n",
    "                    print('Data save successfully check file....')\n",
    "            if fname == 'txt':\n",
    "                name = input('enter file name with extension(.txt) in which you store data...')\n",
    "                with open(name, 'a', ) as f:\n",
    "                    a = '_'\n",
    "                    for x in range(self.n):\n",
    "                        f.write(\n",
    "                            f'{a * 50}\\n employee name :{self.ename()}\\n employee no :{self.eno()}\\n employee salary :{self.esalarry()}\\n'\n",
    "                            f'employee city : {self.ecity()}\\n employee mobile no :{self.ephn()}\\n{a * 50}\\n')\n",
    "                    print('Data save successfully check file....')\n",
    "            p = input('enter y to close file...')\n",
    "            if p == 'y':\n",
    "                print('thanks for visit.....')\n",
    "                break\n",
    "\n",
    "\n",
    "s = fake()\n",
    "s.file()\n"
   ]
  },
  {
   "cell_type": "code",
   "execution_count": null,
   "id": "ef37a49f",
   "metadata": {
    "papermill": {
     "duration": null,
     "end_time": null,
     "exception": null,
     "start_time": null,
     "status": "pending"
    },
    "tags": []
   },
   "outputs": [],
   "source": []
  }
 ],
 "metadata": {
  "kaggle": {
   "accelerator": "none",
   "dataSources": [],
   "dockerImageVersionId": 30635,
   "isGpuEnabled": false,
   "isInternetEnabled": true,
   "language": "python",
   "sourceType": "notebook"
  },
  "kernelspec": {
   "display_name": "Python 3",
   "language": "python",
   "name": "python3"
  },
  "language_info": {
   "codemirror_mode": {
    "name": "ipython",
    "version": 3
   },
   "file_extension": ".py",
   "mimetype": "text/x-python",
   "name": "python",
   "nbconvert_exporter": "python",
   "pygments_lexer": "ipython3",
   "version": "3.10.12"
  },
  "papermill": {
   "default_parameters": {},
   "duration": 21.31345,
   "end_time": "2024-01-25T15:21:40.592808",
   "environment_variables": {},
   "exception": true,
   "input_path": "__notebook__.ipynb",
   "output_path": "__notebook__.ipynb",
   "parameters": {},
   "start_time": "2024-01-25T15:21:19.279358",
   "version": "2.4.0"
  }
 },
 "nbformat": 4,
 "nbformat_minor": 5
}
